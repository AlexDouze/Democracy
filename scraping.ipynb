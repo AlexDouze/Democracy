{
 "cells": [
  {
   "cell_type": "code",
   "execution_count": null,
   "metadata": {},
   "outputs": [],
   "source": [
    "from bs4 import BeautifulSoup\n",
    "import requests\n",
    "import csv\n",
    "\n",
    "# Extraction of a list of countries from wikipedia and\n",
    "# the dependencies with the number of police officers\n",
    "\n",
    "# read wikipedia page of interest\n",
    "source = requests.get('https://en.wikipedia.org/wiki/List_of_countries_and_dependencies_by_number_of_police_officers').text\n",
    "\n",
    "# create a soup object from the web page readed\n",
    "soup = BeautifulSoup(source, 'lxml')\n",
    "\n",
    "# get the table of interest in the page\n",
    "table = soup.find('table', id='nations')\n",
    "\n",
    "# get the body of the table\n",
    "body = table.find('tbody')\n",
    "\n",
    "# initialize two lists to store our results\n",
    "countries=[]\n",
    "values=[]\n",
    "\n",
    "# go through the element of the table tr -> td\n",
    "for tr in body.find_all('tr'):\n",
    "    for td in tr.find_all('td'):\n",
    "        \n",
    "        # get the number of police officer(values)\n",
    "        for span in td.find_all('span', limit=1):\n",
    "            values.append(span.text)\n",
    "        \n",
    "        # get the name of the country\n",
    "        for a in td.find_all('a', limit=2):\n",
    "            countries.append(a.text)\n",
    "        \n",
    "#print(countries)"
   ]
  }
 ],
 "metadata": {
  "kernelspec": {
   "display_name": "Python 3",
   "language": "python",
   "name": "python3"
  },
  "language_info": {
   "codemirror_mode": {
    "name": "ipython",
    "version": 3
   },
   "file_extension": ".py",
   "mimetype": "text/x-python",
   "name": "python",
   "nbconvert_exporter": "python",
   "pygments_lexer": "ipython3",
   "version": "3.8.3"
  }
 },
 "nbformat": 4,
 "nbformat_minor": 4
}
